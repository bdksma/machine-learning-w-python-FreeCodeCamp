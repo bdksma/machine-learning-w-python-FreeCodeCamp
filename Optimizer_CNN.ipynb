{
  "nbformat": 4,
  "nbformat_minor": 0,
  "metadata": {
    "colab": {
      "provenance": [],
      "authorship_tag": "ABX9TyOeKur+dwGTgERdDV33aL0q",
      "include_colab_link": true
    },
    "kernelspec": {
      "name": "python3",
      "display_name": "Python 3"
    },
    "language_info": {
      "name": "python"
    }
  },
  "cells": [
    {
      "cell_type": "markdown",
      "metadata": {
        "id": "view-in-github",
        "colab_type": "text"
      },
      "source": [
        "<a href=\"https://colab.research.google.com/github/bdksma/machine-learning-w-python-FreeCodeCamp/blob/main/Optimizer_CNN.ipynb\" target=\"_parent\"><img src=\"https://colab.research.google.com/assets/colab-badge.svg\" alt=\"Open In Colab\"/></a>"
      ]
    },
    {
      "cell_type": "markdown",
      "source": [
        "# Creating a Neural Network\n"
      ],
      "metadata": {
        "id": "QIj1kChDI87v"
      }
    },
    {
      "cell_type": "code",
      "execution_count": 1,
      "metadata": {
        "colab": {
          "base_uri": "https://localhost:8080/"
        },
        "id": "LZLZqkfUIqZy",
        "outputId": "1b6b4a9f-3ba0-4fdb-c492-250f5e93db34"
      },
      "outputs": [
        {
          "output_type": "stream",
          "name": "stdout",
          "text": [
            "Colab only includes TensorFlow 2.x; %tensorflow_version has no effect.\n"
          ]
        }
      ],
      "source": [
        "%tensorflow_version 2.x\n",
        "\n",
        "import tensorflow as tf\n",
        "from tensorflow import keras\n",
        "\n",
        "import numpy as np\n",
        "import matplotlib.pyplot as plt"
      ]
    },
    {
      "cell_type": "markdown",
      "source": [
        "Dataset"
      ],
      "metadata": {
        "id": "wBvV-UaqJ8Wo"
      }
    },
    {
      "cell_type": "code",
      "source": [
        "fashion_mnist = keras.datasets.fashion_mnist #load dataset\n",
        "(train_images, train_labels), (test_images, test_labels) = fashion_mnist.load_data() #split into testing and training"
      ],
      "metadata": {
        "colab": {
          "base_uri": "https://localhost:8080/"
        },
        "id": "YsRA2cueKBK0",
        "outputId": "64e558be-92ab-4cb8-8885-a1499fc03895"
      },
      "execution_count": 2,
      "outputs": [
        {
          "output_type": "stream",
          "name": "stdout",
          "text": [
            "Downloading data from https://storage.googleapis.com/tensorflow/tf-keras-datasets/train-labels-idx1-ubyte.gz\n",
            "29515/29515 [==============================] - 0s 4us/step\n",
            "Downloading data from https://storage.googleapis.com/tensorflow/tf-keras-datasets/train-images-idx3-ubyte.gz\n",
            "26421880/26421880 [==============================] - 2s 0us/step\n",
            "Downloading data from https://storage.googleapis.com/tensorflow/tf-keras-datasets/t10k-labels-idx1-ubyte.gz\n",
            "5148/5148 [==============================] - 0s 0us/step\n",
            "Downloading data from https://storage.googleapis.com/tensorflow/tf-keras-datasets/t10k-images-idx3-ubyte.gz\n",
            "4422102/4422102 [==============================] - 1s 0us/step\n"
          ]
        }
      ]
    },
    {
      "cell_type": "markdown",
      "source": [
        "Lets have a look at this data to see what are working with"
      ],
      "metadata": {
        "id": "XlqeSaCsKrdm"
      }
    },
    {
      "cell_type": "code",
      "source": [
        "train_images.shape #we can got 60,000 images that are made up of 28 x 28 pixels (784 in total)"
      ],
      "metadata": {
        "colab": {
          "base_uri": "https://localhost:8080/"
        },
        "id": "IKeSbJM3K0F1",
        "outputId": "3c5b67b3-6ecc-4ca2-b938-81851c3c6b92"
      },
      "execution_count": 3,
      "outputs": [
        {
          "output_type": "execute_result",
          "data": {
            "text/plain": [
              "(60000, 28, 28)"
            ]
          },
          "metadata": {},
          "execution_count": 3
        }
      ]
    },
    {
      "cell_type": "code",
      "source": [
        "train_images[0, 23, 23] #let's have look at one pixels"
      ],
      "metadata": {
        "colab": {
          "base_uri": "https://localhost:8080/"
        },
        "id": "wwLxDUzHLCRe",
        "outputId": "aed6407d-f7a4-4706-d120-ce93bc5b0f8e"
      },
      "execution_count": 4,
      "outputs": [
        {
          "output_type": "execute_result",
          "data": {
            "text/plain": [
              "194"
            ]
          },
          "metadata": {},
          "execution_count": 4
        }
      ]
    },
    {
      "cell_type": "markdown",
      "source": [
        "Our pixel value are between 0 and 255, 0 being black and 255 being white. This means we have a gray scale image as there are no colors channel"
      ],
      "metadata": {
        "id": "DVliY9axLsEs"
      }
    },
    {
      "cell_type": "code",
      "source": [
        "train_labels[:10] #lets have a look at first 10 training labels"
      ],
      "metadata": {
        "colab": {
          "base_uri": "https://localhost:8080/"
        },
        "id": "ZlIw_nlHL_Kc",
        "outputId": "549e545b-8e7b-4e5d-f4cc-43e2d35ce7e6"
      },
      "execution_count": 5,
      "outputs": [
        {
          "output_type": "execute_result",
          "data": {
            "text/plain": [
              "array([9, 0, 0, 3, 0, 2, 7, 2, 5, 5], dtype=uint8)"
            ]
          },
          "metadata": {},
          "execution_count": 5
        }
      ]
    },
    {
      "cell_type": "markdown",
      "source": [
        "Our label are integers ranging 0 - 9. Each integer represents a spesific article of clothing. We'll create an array of label names to indicate which is which"
      ],
      "metadata": {
        "id": "IVjeMyKUNERY"
      }
    },
    {
      "cell_type": "code",
      "source": [
        "class_names=['T-shirt/top', 'Trouser', 'Pullover', 'Dress', 'Coat', 'Sandal', 'Shirt', 'Sneaker', 'Bag', 'Ankle Boot']"
      ],
      "metadata": {
        "id": "4KyNayhQNbAe"
      },
      "execution_count": 6,
      "outputs": []
    },
    {
      "cell_type": "code",
      "source": [
        "plt.figure()\n",
        "plt.imshow(train_images[9])\n",
        "plt.colorbar()\n",
        "plt.grid(False)\n",
        "plt.show()"
      ],
      "metadata": {
        "colab": {
          "base_uri": "https://localhost:8080/",
          "height": 430
        },
        "id": "KnVp4XL0NyYi",
        "outputId": "cb54f7e2-4da8-40f6-cb8b-3286769c2978"
      },
      "execution_count": 7,
      "outputs": [
        {
          "output_type": "display_data",
          "data": {
            "text/plain": [
              "<Figure size 640x480 with 2 Axes>"
            ],
            "image/png": "[encoded data removed]"
          },
          "metadata": {}
        }
      ]
    },
    {
      "cell_type": "markdown",
      "source": [
        "Data Preprocessing"
      ],
      "metadata": {
        "id": "6zh-hG0-PIag"
      }
    },
    {
      "cell_type": "code",
      "source": [
        "train_images = train_images / 255.0\n",
        "test_images = test_images / 255.0"
      ],
      "metadata": {
        "id": "K2WWXRTWQFQ0"
      },
      "execution_count": 8,
      "outputs": []
    },
    {
      "cell_type": "markdown",
      "source": [
        "Building The Model"
      ],
      "metadata": {
        "id": "Ee0o7KZ4QoxM"
      }
    },
    {
      "cell_type": "code",
      "source": [
        "model = keras.Sequential([\n",
        "    keras.layers.Flatten(input_shape=(28,28)), #input layer (1)\n",
        "    keras.layers.Dense(128, activation='relu'), #hidden layer (2)\n",
        "    keras.layers.Dense(10, activation='softmax') #output layer (3)\n",
        "])\n",
        "\n",
        "#Compile the model\n",
        "model.compile(optimizer='adam',\n",
        "              loss='sparse_categorical_crossentropy',\n",
        "              metrics=['accuracy'])"
      ],
      "metadata": {
        "id": "hACMHCOhQ2Yp"
      },
      "execution_count": 9,
      "outputs": []
    },
    {
      "cell_type": "code",
      "source": [
        "#training the model\n",
        "model.fit(train_images, train_labels, epochs=10)"
      ],
      "metadata": {
        "colab": {
          "base_uri": "https://localhost:8080/"
        },
        "id": "rYHu5nEBXfLR",
        "outputId": "40993b34-269b-4cb8-85e1-b211e4308e54"
      },
      "execution_count": 10,
      "outputs": [
        {
          "output_type": "stream",
          "name": "stdout",
          "text": [
            "Epoch 1/10\n",
            "1875/1875 [==============================] - 15s 7ms/step - loss: 0.4991 - accuracy: 0.8249\n",
            "Epoch 2/10\n",
            "1875/1875 [==============================] - 12s 6ms/step - loss: 0.3731 - accuracy: 0.8651\n",
            "Epoch 3/10\n",
            "1875/1875 [==============================] - 8s 4ms/step - loss: 0.3357 - accuracy: 0.8775\n",
            "Epoch 4/10\n",
            "1875/1875 [==============================] - 8s 4ms/step - loss: 0.3115 - accuracy: 0.8846\n",
            "Epoch 5/10\n",
            "1875/1875 [==============================] - 8s 4ms/step - loss: 0.2926 - accuracy: 0.8916\n",
            "Epoch 6/10\n",
            "1875/1875 [==============================] - 8s 4ms/step - loss: 0.2793 - accuracy: 0.8971\n",
            "Epoch 7/10\n",
            "1875/1875 [==============================] - 8s 5ms/step - loss: 0.2683 - accuracy: 0.8990\n",
            "Epoch 8/10\n",
            "1875/1875 [==============================] - 7s 4ms/step - loss: 0.2570 - accuracy: 0.9038\n",
            "Epoch 9/10\n",
            "1875/1875 [==============================] - 8s 4ms/step - loss: 0.2457 - accuracy: 0.9089\n",
            "Epoch 10/10\n",
            "1875/1875 [==============================] - 8s 5ms/step - loss: 0.2387 - accuracy: 0.9114\n"
          ]
        },
        {
          "output_type": "execute_result",
          "data": {
            "text/plain": [
              "<keras.callbacks.History at 0x79dca4a69630>"
            ]
          },
          "metadata": {},
          "execution_count": 10
        }
      ]
    },
    {
      "cell_type": "code",
      "source": [
        "test_loss, test_acc = model.evaluate(test_images, test_labels, verbose=1)\n",
        "\n",
        "print('Test Accuracy: ', test_acc)"
      ],
      "metadata": {
        "colab": {
          "base_uri": "https://localhost:8080/"
        },
        "id": "STNWOv11vWPJ",
        "outputId": "b498a0c3-99e3-4ce2-8e90-66893a9647cb"
      },
      "execution_count": 11,
      "outputs": [
        {
          "output_type": "stream",
          "name": "stdout",
          "text": [
            "313/313 [==============================] - 1s 2ms/step - loss: 0.3691 - accuracy: 0.8745\n",
            "Test Accuracy:  0.8744999766349792\n"
          ]
        }
      ]
    },
    {
      "cell_type": "markdown",
      "source": [
        "Prediction"
      ],
      "metadata": {
        "id": "RbM9SQDW1zaH"
      }
    },
    {
      "cell_type": "code",
      "source": [
        "prediction = model.predict(test_images)\n",
        "print(prediction[8]) #untuk melihat indeks class yang dimaksud\n",
        "print(np.argmax(prediction[8]))\n",
        "print(class_names[np.argmax(prediction[8])])\n",
        "plt.figure()\n",
        "plt.imshow(test_images[8])\n",
        "plt.colorbar()\n",
        "plt.grid(False)\n",
        "plt.show()"
      ],
      "metadata": {
        "colab": {
          "base_uri": "https://localhost:8080/",
          "height": 522
        },
        "id": "eGlzquXMxcqP",
        "outputId": "f46627ef-e490-42cf-c62f-270ab32389a8"
      },
      "execution_count": 12,
      "outputs": [
        {
          "output_type": "stream",
          "name": "stdout",
          "text": [
            "313/313 [==============================] - 1s 2ms/step\n",
            "[1.7607538e-04 1.1892776e-06 6.6399662e-06 6.9607518e-07 1.2893607e-07\n",
            " 9.9956769e-01 4.4591269e-07 2.3823089e-04 8.9062960e-06 3.6766370e-08]\n",
            "5\n",
            "Sandal\n"
          ]
        },
        {
          "output_type": "display_data",
          "data": {
            "text/plain": [
              "<Figure size 640x480 with 2 Axes>"
            ],
            "image/png": "[encoded data removed]"
          },
          "metadata": {}
        }
      ]
    },
    {
      "cell_type": "markdown",
      "source": [
        "Verifying Prediction"
      ],
      "metadata": {
        "id": "TCC9GZl-3WT9"
      }
    },
    {
      "cell_type": "code",
      "source": [
        "COLOR = 'white'\n",
        "plt.rcParams['text.color'] = COLOR\n",
        "plt.rcParams['axes.labelcolor'] = COLOR\n",
        "def predict(model, image, correct_labels):\n",
        "  class_names=['T-shirt/top', 'Trouser', 'Pullover', 'Dress', 'Coat', 'Sandal', 'Shirt', 'Sneaker', 'Bag', 'Ankle Boot']\n",
        "  prediction=model.predict(np.array[image])\n",
        "  predicted_class=class_names[np.argmax(prediction)]\n",
        "def show_image(img, label, guess):\n",
        "    plt.figure()\n",
        "    plt.imshow(img, cmap=plt.cm.binary)\n",
        "    plt.title(\"Expected: \" + label)\n",
        "    plt.xlabel(\"Guess: \" + guess)\n",
        "    plt.colorbar()\n",
        "    plt.grid(False)\n",
        "    plt.show()\n",
        "def get_number():\n",
        "  while True:\n",
        "    num = input(\"Pick a number: \")\n",
        "    if num.isdigit():\n",
        "      num = int(num)\n",
        "      if 0 <= num <= 1000:\n",
        "        return int(num)\n",
        "      else:\n",
        "        print(\"Try Again...\")\n",
        "num = get_number()\n",
        "image = test_images[num]\n",
        "label = test_labels[num]\n",
        "predict(model, image, label)"
      ],
      "metadata": {
        "id": "r_qzwsEx3Rg3"
      },
      "execution_count": null,
      "outputs": []
    }
  ]
}